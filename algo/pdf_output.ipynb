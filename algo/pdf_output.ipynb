{
 "cells": [
  {
   "cell_type": "markdown",
   "metadata": {},
   "source": [
    "# GoodPlantBadPlant Algorithm Output\n"
   ]
  },
  {
   "cell_type": "code",
   "execution_count": 1,
   "metadata": {},
   "outputs": [
    {
     "name": "stdout",
     "output_type": "stream",
     "text": [
      "Requirement already satisfied: simplekml in c:\\users\\ricky\\anaconda3\\envs\\gpbp\\lib\\site-packages (1.3.6)\n"
     ]
    }
   ],
   "source": [
    "!pip install simplekml "
   ]
  },
  {
   "cell_type": "code",
   "execution_count": 8,
   "metadata": {},
   "outputs": [],
   "source": [
    "import sys\n",
    "import os\n",
    "import io\n",
    "import json\n",
    "import simplekml as kml\n",
    "from algorithm.algo import GPBP_Algo\n",
    "\n",
    "\n",
    "with open(os.path.join(os.path.dirname(\"input.json\"), \"input.json\"), 'r') as f:\n",
    "    input = json.load(f)\n",
    "\n",
    "bbox = input[\"bounding_box\"]\n",
    "bbox = \"{},{},{},{}\".format(bbox[\"min_lat\"], bbox[\"min_lon\"], bbox[\"max_lat\"], bbox[\"max_lon\"])\n",
    "start_date, end_date = input[\"start_date\"], input[\"end_date\"]\n",
    "k, C, T = input[\"k_constant\"], input[\"c_constant\"], input[\"threshold\"]"
   ]
  },
  {
   "cell_type": "code",
   "execution_count": 9,
   "metadata": {},
   "outputs": [
    {
     "name": "stdout",
     "output_type": "stream",
     "text": [
      "Coordinates Bounding Box: -122.905753,-122.905753,-122.276786,-122.276786\n",
      "Start Date: 2020-09-27T08\n",
      "End Date: 2020-09-28T16\n",
      "Coefficient of Permeability: 10\n",
      "Concentration of Saccharides & Aromatic Compounds: 2.402\n",
      "\n",
      "Threshold: {\n",
      "  \"latitude\": 38.548493,\n",
      "  \"longitude\": -122.517536,\n",
      "  \"UTC\": \"2020-09-27T08:00\",\n",
      "  \"aqi_value\": 21,\n",
      "  \"aqi_category\": 1,\n",
      "  \"plant_type\": \"grapes\",\n",
      "  \"unit\": \"ppm\",\n",
      "  \"soil_compounds\": {\n",
      "    \"guaiacol\": 1.032,\n",
      "    \"o-cresol\": 0.171,\n",
      "    \"m-cresol\": 0.032,\n",
      "    \"p-cresol\": 0.079,\n",
      "    \"syringol\": 7.6e-05\n",
      "  },\n",
      "  \"plant_compounds\": {\n",
      "    \"guaiacol\": 0.4540800000000001,\n",
      "    \"o-cresol\": 0.07524000000000002,\n",
      "    \"m-cresol\": 0.014080000000000002,\n",
      "    \"p-cresol\": 0.034760000000000006,\n",
      "    \"syringol\": 3.3440000000000005e-05\n",
      "  },\n",
      "  \"smoke_coverage\": 4.4,\n",
      "  \"conversion_factor\": 0.44000000000000006,\n",
      "  \"negative_phenolic_compounds\": {\n",
      "    \"guaiacol\": 1.0907001600000004,\n",
      "    \"m-cresol\": 0.03382016000000001,\n",
      "    \"o-cresol\": 0.18072648000000005,\n",
      "    \"p-cresol\": 0.08349352000000002,\n",
      "    \"syringol\": 8.032288000000002e-05\n",
      "  }\n",
      "}\n"
     ]
    }
   ],
   "source": [
    "print(\"Coordinates Bounding Box: {}\".format(bbox))\n",
    "print(\"Start Date: {}\\nEnd Date: {}\".format(start_date, end_date))\n",
    "print(\"Coefficient of Permeability: {}\".format(k))\n",
    "print(\"Concentration of Saccharides & Aromatic Compounds: {}\\n\".format(C))\n",
    "print(\"Threshold: {}\".format(json.dumps(T, indent=2)))"
   ]
  },
  {
   "cell_type": "code",
   "execution_count": 11,
   "metadata": {},
   "outputs": [
    {
     "name": "stdout",
     "output_type": "stream",
     "text": [
      "<WebServiceError><Message>Invalid request.</Message></WebServiceError>\n"
     ]
    }
   ],
   "source": [
    "algo = GPBP_Algo(k_coeff = k, C = C, threshold=T)\n",
    "geo_data = algo.get_aqi_data(bbox, start_date, end_date, format=\"KML\")\n",
    "\n",
    "# initial_geo_data = geo_data[0]\n",
    "# final_geo_data = geo_data[:-1]\n",
    "\n",
    "print(geo_data)\n",
    "# cwd = os.getcwd()\n",
    "\n",
    "# with open(cwd + \"/{}_geo.kml\".format(start_date), \"w\") as f:\n",
    "#                     # indent here is for easier viewing. It should not be used in practice\n",
    "#                     f.write(initial_geo_data)\n",
    "\n",
    "# with open(cwd + \"/{}_geo.kml\".format(end_date), \"w\") as f:\n",
    "#                     # indent here is for easier viewing. It should not be used in practice\n",
    "#                     f.write(final_geo_data)\n"
   ]
  },
  {
   "cell_type": "code",
   "execution_count": 16,
   "metadata": {},
   "outputs": [
    {
     "ename": "TypeError",
     "evalue": "'Response' object is not subscriptable",
     "output_type": "error",
     "traceback": [
      "\u001b[1;31m---------------------------------------------------------------------------\u001b[0m",
      "\u001b[1;31mTypeError\u001b[0m                                 Traceback (most recent call last)",
      "Cell \u001b[1;32mIn[16], line 19\u001b[0m\n\u001b[0;32m      1\u001b[0m \u001b[39m# for response in geo_data:\u001b[39;00m\n\u001b[0;32m      2\u001b[0m \u001b[39m#     # Get the content of the response\u001b[39;00m\n\u001b[0;32m      3\u001b[0m \u001b[39m#     kml_content = response\u001b[39;00m\n\u001b[1;32m   (...)\u001b[0m\n\u001b[0;32m     17\u001b[0m \u001b[39m#             longitude = placemark.geometry.coords[0][0]\u001b[39;00m\n\u001b[0;32m     18\u001b[0m \u001b[39m#             print(f\"Latitude: {latitude}, Longitude: {longitude}\")\u001b[39;00m\n\u001b[1;32m---> 19\u001b[0m temp \u001b[39m=\u001b[39m geo_data[\u001b[39m0\u001b[39;49m]\u001b[39m.\u001b[39mresponse\n",
      "\u001b[1;31mTypeError\u001b[0m: 'Response' object is not subscriptable"
     ]
    }
   ],
   "source": [
    "# for response in geo_data:\n",
    "#     # Get the content of the response\n",
    "#     kml_content = response\n",
    "    \n",
    "#     # Create a BytesIO object from the content\n",
    "#     kml_stream = io.BytesIO(kml_content)\n",
    "    \n",
    "#     # Parse the KML data using simplekml\n",
    "#     kml = kml.Kml()\n",
    "#     kml = kml.from_string(kml_stream.getvalue())\n",
    "    \n",
    "#     # Now you can work with the kml object and extract the geographical information\n",
    "#     # For example, you can extract latitude and longitude from the KML data\n",
    "#     for placemark in kml.placemarks():\n",
    "#         if placemark.geometry and hasattr(placemark.geometry, 'coords'):\n",
    "#             latitude = placemark.geometry.coords[0][1]\n",
    "#             longitude = placemark.geometry.coords[0][0]\n",
    "#             print(f\"Latitude: {latitude}, Longitude: {longitude}\")\n",
    "# temp = geo_data[0]"
   ]
  },
  {
   "cell_type": "code",
   "execution_count": null,
   "metadata": {},
   "outputs": [],
   "source": []
  }
 ],
 "metadata": {
  "kernelspec": {
   "display_name": "gpbp",
   "language": "python",
   "name": "gpbp"
  },
  "language_info": {
   "codemirror_mode": {
    "name": "ipython",
    "version": 3
   },
   "file_extension": ".py",
   "mimetype": "text/x-python",
   "name": "python",
   "nbconvert_exporter": "python",
   "pygments_lexer": "ipython3",
   "version": "3.9.17"
  },
  "orig_nbformat": 4
 },
 "nbformat": 4,
 "nbformat_minor": 2
}
